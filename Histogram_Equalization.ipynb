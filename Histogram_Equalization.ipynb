{
  "nbformat": 4,
  "nbformat_minor": 0,
  "metadata": {
    "colab": {
      "provenance": []
    },
    "kernelspec": {
      "name": "python3",
      "display_name": "Python 3"
    },
    "language_info": {
      "name": "python"
    }
  },
  "cells": [
    {
      "cell_type": "code",
      "execution_count": 2,
      "metadata": {
        "id": "eDMt0_eX3VCe"
      },
      "outputs": [],
      "source": [
        "# Importing Library\n",
        "import numpy as np\n",
        "import cv2\n",
        "from matplotlib import pyplot as plt\n",
        "from PIL import Image"
      ]
    },
    {
      "cell_type": "code",
      "source": [
        "# taking matrix input\n",
        "matrix=[]\n",
        "for i in range(4):\n",
        "  a=[]\n",
        "  for j in range(4):\n",
        "    a.append(int(input()))\n",
        "  matrix.append(a)\n",
        "print(matrix)\n"
      ],
      "metadata": {
        "colab": {
          "base_uri": "https://localhost:8080/"
        },
        "id": "6cB0EzG29KFc",
        "outputId": "d1869fa3-a1f3-486d-a857-a294364350a2"
      },
      "execution_count": 4,
      "outputs": [
        {
          "output_type": "stream",
          "name": "stdout",
          "text": [
            "10\n",
            "12\n",
            "8\n",
            "9\n",
            "10\n",
            "12\n",
            "12\n",
            "14\n",
            "12\n",
            "13\n",
            "10\n",
            "9\n",
            "14\n",
            "12\n",
            "10\n",
            "12\n",
            "[[10, 12, 8, 9], [10, 12, 12, 14], [12, 13, 10, 9], [14, 12, 10, 12]]\n"
          ]
        }
      ]
    },
    {
      "cell_type": "code",
      "source": [
        "# converting to numpy array\n",
        "matrix=np.array(matrix)"
      ],
      "metadata": {
        "id": "O3xCyd9P8FqV"
      },
      "execution_count": 5,
      "outputs": []
    },
    {
      "cell_type": "code",
      "source": [
        "print(matrix)"
      ],
      "metadata": {
        "colab": {
          "base_uri": "https://localhost:8080/"
        },
        "id": "IeTLU1Vu_7wh",
        "outputId": "b7e25531-f6e7-4071-b16b-92e176fe23d2"
      },
      "execution_count": 6,
      "outputs": [
        {
          "output_type": "stream",
          "name": "stdout",
          "text": [
            "[[10 12  8  9]\n",
            " [10 12 12 14]\n",
            " [12 13 10  9]\n",
            " [14 12 10 12]]\n"
          ]
        }
      ]
    },
    {
      "cell_type": "code",
      "source": [
        "plt.imshow(matrix, cmap='gray', vmin=0, vmax=15)\n",
        "plt.title('Input Image - Before Histogram Equalization')\n",
        "plt.colorbar()\n",
        "plt.show()"
      ],
      "metadata": {
        "colab": {
          "base_uri": "https://localhost:8080/",
          "height": 452
        },
        "id": "6bBGI4CS_-0q",
        "outputId": "97f9ab79-9af1-409c-a8f2-e794da39494d"
      },
      "execution_count": 17,
      "outputs": [
        {
          "output_type": "display_data",
          "data": {
            "text/plain": [
              "<Figure size 640x480 with 2 Axes>"
            ],
            "image/png": "[encoded data removed]"
          },
          "metadata": {}
        }
      ]
    },
    {
      "cell_type": "code",
      "source": [
        "matrix_new=matrix.flatten()"
      ],
      "metadata": {
        "id": "lzy0jTtTFM0r"
      },
      "execution_count": 20,
      "outputs": []
    },
    {
      "cell_type": "code",
      "source": [
        "# Histogram Equalization\n",
        "unique,frequency = np.unique(matrix_new,return_counts=True)\n",
        "print (unique)\n",
        "print(frequency)\n",
        "sum_f=sum(frequency)\n",
        "print(sum_f)\n",
        "pdf=frequency/16\n",
        "print(pdf)\n",
        "cdf=np.cumsum(pdf)\n",
        "print(cdf)\n",
        "print (cdf * 15 )\n",
        "rounded =np.round(cdf * 15)\n",
        "print(rounded)"
      ],
      "metadata": {
        "colab": {
          "base_uri": "https://localhost:8080/"
        },
        "id": "arPn8sJHExps",
        "outputId": "4146a79c-05ba-40ed-cb59-6305a7c4518a"
      },
      "execution_count": 21,
      "outputs": [
        {
          "output_type": "stream",
          "name": "stdout",
          "text": [
            "[ 1  3  7 12 13 15]\n",
            "[1 2 4 6 1 2]\n",
            "16\n",
            "[0.0625 0.125  0.25   0.375  0.0625 0.125 ]\n",
            "[0.0625 0.1875 0.4375 0.8125 0.875  1.    ]\n",
            "[ 0.9375  2.8125  6.5625 12.1875 13.125  15.    ]\n",
            "[ 1.  3.  7. 12. 13. 15.]\n"
          ]
        }
      ]
    },
    {
      "cell_type": "code",
      "source": [
        "mapping = dict(zip(unique, rounded))"
      ],
      "metadata": {
        "id": "88EvIK1OTI3m"
      },
      "execution_count": 22,
      "outputs": []
    },
    {
      "cell_type": "code",
      "source": [
        "for i in range(matrix.shape[0]):\n",
        "    for j in range(matrix.shape[1]):\n",
        "        matrix[i, j] = mapping.get(matrix[i, j], matrix[i, j])"
      ],
      "metadata": {
        "id": "kJky3MKCUiS8"
      },
      "execution_count": 23,
      "outputs": []
    },
    {
      "cell_type": "code",
      "source": [
        "print(matrix)"
      ],
      "metadata": {
        "colab": {
          "base_uri": "https://localhost:8080/"
        },
        "id": "XtNj6cCIUjtj",
        "outputId": "bef09e1b-da1c-4551-9387-1cc6424200ac"
      },
      "execution_count": 14,
      "outputs": [
        {
          "output_type": "stream",
          "name": "stdout",
          "text": [
            "[[ 7 12  1  3]\n",
            " [ 7 12 12 15]\n",
            " [12 13  7  3]\n",
            " [15 12  7 12]]\n"
          ]
        }
      ]
    },
    {
      "cell_type": "code",
      "source": [
        "plt.imshow(matrix, cmap='gray', vmin=0, vmax=15)\n",
        "plt.title('Output Image - After Histogram Equalization ')\n",
        "plt.colorbar()\n",
        "plt.show()"
      ],
      "metadata": {
        "colab": {
          "base_uri": "https://localhost:8080/",
          "height": 452
        },
        "id": "XAUBkorAUpjc",
        "outputId": "004bea7c-635d-45a8-b460-1f8a44290681"
      },
      "execution_count": 24,
      "outputs": [
        {
          "output_type": "display_data",
          "data": {
            "text/plain": [
              "<Figure size 640x480 with 2 Axes>"
            ],
            "image/png": "[encoded data removed]"
          },
          "metadata": {}
        }
      ]
    }
  ]
}